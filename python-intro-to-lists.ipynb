{
 "cells": [
  {
   "cell_type": "markdown",
   "id": "4d63b796",
   "metadata": {
    "papermill": {
     "duration": 0.007844,
     "end_time": "2023-03-18T21:06:38.435939",
     "exception": false,
     "start_time": "2023-03-18T21:06:38.428095",
     "status": "completed"
    },
    "tags": []
   },
   "source": [
    "**This notebook is an exercise in the [Intro to Programming](https://www.kaggle.com/learn/intro-to-programming) course.  You can reference the tutorial at [this link](https://www.kaggle.com/alexisbcook/intro-to-lists).**\n",
    "\n",
    "---\n"
   ]
  },
  {
   "cell_type": "markdown",
   "id": "36adc988",
   "metadata": {
    "papermill": {
     "duration": 0.007003,
     "end_time": "2023-03-18T21:06:38.449483",
     "exception": false,
     "start_time": "2023-03-18T21:06:38.442480",
     "status": "completed"
    },
    "tags": []
   },
   "source": [
    "In the tutorial, you learned how to define and modify Python lists.  In this exercise, you will use your new knowledge to solve several problems.\n",
    "\n",
    "# Set up the notebook\n",
    "\n",
    "Run the next code cell without changes to set up the notebook."
   ]
  },
  {
   "cell_type": "code",
   "execution_count": 1,
   "id": "825776a9",
   "metadata": {
    "execution": {
     "iopub.execute_input": "2023-03-18T21:06:38.464998Z",
     "iopub.status.busy": "2023-03-18T21:06:38.464118Z",
     "iopub.status.idle": "2023-03-18T21:06:38.511275Z",
     "shell.execute_reply": "2023-03-18T21:06:38.509939Z"
    },
    "papermill": {
     "duration": 0.058563,
     "end_time": "2023-03-18T21:06:38.514589",
     "exception": false,
     "start_time": "2023-03-18T21:06:38.456026",
     "status": "completed"
    },
    "tags": []
   },
   "outputs": [
    {
     "name": "stdout",
     "output_type": "stream",
     "text": [
      "Setup complete.\n"
     ]
    }
   ],
   "source": [
    "from learntools.core import binder\n",
    "binder.bind(globals())\n",
    "from learntools.intro_to_programming.ex5 import *\n",
    "print('Setup complete.')"
   ]
  },
  {
   "cell_type": "markdown",
   "id": "f46fdb23",
   "metadata": {
    "papermill": {
     "duration": 0.006335,
     "end_time": "2023-03-18T21:06:38.527677",
     "exception": false,
     "start_time": "2023-03-18T21:06:38.521342",
     "status": "completed"
    },
    "tags": []
   },
   "source": [
    "# Question 1\n",
    "\n",
    "You own a restaurant with five food dishes, organized in the Python list `menu` below.  One day, you decide to:\n",
    "- remove bean soup (`'bean soup'`) from the menu, and\n",
    "- add roasted beet salad (`'roasted beet salad'`) to the menu.\n",
    "\n",
    "Implement this change to the list below.  While completing this task, \n",
    "- do not change the line that creates the `menu` list.  \n",
    "- your answer should use `.remove()` and `.append()`.  "
   ]
  },
  {
   "cell_type": "code",
   "execution_count": 2,
   "id": "787407f4",
   "metadata": {
    "execution": {
     "iopub.execute_input": "2023-03-18T21:06:38.542812Z",
     "iopub.status.busy": "2023-03-18T21:06:38.542354Z",
     "iopub.status.idle": "2023-03-18T21:06:38.554607Z",
     "shell.execute_reply": "2023-03-18T21:06:38.553583Z"
    },
    "papermill": {
     "duration": 0.022695,
     "end_time": "2023-03-18T21:06:38.556878",
     "exception": false,
     "start_time": "2023-03-18T21:06:38.534183",
     "status": "completed"
    },
    "tags": []
   },
   "outputs": [
    {
     "data": {
      "application/javascript": [
       "parent.postMessage({\"jupyterEvent\": \"custom.exercise_interaction\", \"data\": {\"outcomeType\": 1, \"valueTowardsCompletion\": 0.2, \"interactionType\": 1, \"questionType\": 2, \"questionId\": \"1_FoodMenu\", \"learnToolsVersion\": \"0.3.4\", \"failureMessage\": \"\", \"exceptionClass\": \"\", \"trace\": \"\"}}, \"*\")"
      ],
      "text/plain": [
       "<IPython.core.display.Javascript object>"
      ]
     },
     "metadata": {},
     "output_type": "display_data"
    },
    {
     "data": {
      "text/markdown": [
       "<span style=\"color:#33cc33\">Correct</span>"
      ],
      "text/plain": [
       "Correct"
      ]
     },
     "metadata": {},
     "output_type": "display_data"
    }
   ],
   "source": [
    "# Do not change: Initial menu for your restaurant\n",
    "menu = ['stewed meat with onions', 'bean soup', 'risotto with trout and shrimp',\n",
    "       'fish soup with cream and onion', 'gyro']\n",
    "\n",
    "# TODO: remove 'bean soup', and add 'roasted beet salad' to the end of the menu\n",
    "menu.remove('bean soup')\n",
    "menu.append('roasted beet salad')\n",
    "\n",
    "# Do not change: Check your answer\n",
    "q1.check()"
   ]
  },
  {
   "cell_type": "code",
   "execution_count": 3,
   "id": "8d15b62b",
   "metadata": {
    "execution": {
     "iopub.execute_input": "2023-03-18T21:06:38.573021Z",
     "iopub.status.busy": "2023-03-18T21:06:38.571642Z",
     "iopub.status.idle": "2023-03-18T21:06:38.577262Z",
     "shell.execute_reply": "2023-03-18T21:06:38.575844Z"
    },
    "papermill": {
     "duration": 0.01658,
     "end_time": "2023-03-18T21:06:38.580092",
     "exception": false,
     "start_time": "2023-03-18T21:06:38.563512",
     "status": "completed"
    },
    "tags": []
   },
   "outputs": [],
   "source": [
    "# Uncomment to see a hint\n",
    "#q1.hint()\n",
    "\n",
    "# Uncomment to see the solution\n",
    "#q1.solution()"
   ]
  },
  {
   "cell_type": "markdown",
   "id": "27793e1c",
   "metadata": {
    "papermill": {
     "duration": 0.006405,
     "end_time": "2023-03-18T21:06:38.593379",
     "exception": false,
     "start_time": "2023-03-18T21:06:38.586974",
     "status": "completed"
    },
    "tags": []
   },
   "source": [
    "# Question 2\n",
    "\n",
    "The list `num_customers` contains the number of customers who came into your restaurant every day over the last month (which lasted thirty days).  Fill in values for each of the following:\n",
    "- `avg_first_seven` - average number of customers who visited in the first seven days\n",
    "- `avg_last_seven` - average number of customers who visited in the last seven days\n",
    "- `max_month` - number of customers on the day that got the most customers in the last month\n",
    "- `min_month` - number of customers on the day that got the least customers in the last month\n",
    "\n",
    "Answer this question by writing code.  For instance, if you have to find the minimum value in a list, use `min()` instead of scanning for the smallest value and directly filling in a number."
   ]
  },
  {
   "cell_type": "code",
   "execution_count": 4,
   "id": "a5eb4367",
   "metadata": {
    "execution": {
     "iopub.execute_input": "2023-03-18T21:06:38.608671Z",
     "iopub.status.busy": "2023-03-18T21:06:38.608218Z",
     "iopub.status.idle": "2023-03-18T21:06:38.618926Z",
     "shell.execute_reply": "2023-03-18T21:06:38.617920Z"
    },
    "papermill": {
     "duration": 0.021089,
     "end_time": "2023-03-18T21:06:38.621131",
     "exception": false,
     "start_time": "2023-03-18T21:06:38.600042",
     "status": "completed"
    },
    "tags": []
   },
   "outputs": [
    {
     "data": {
      "application/javascript": [
       "parent.postMessage({\"jupyterEvent\": \"custom.exercise_interaction\", \"data\": {\"outcomeType\": 1, \"valueTowardsCompletion\": 0.2, \"interactionType\": 1, \"questionType\": 1, \"questionId\": \"2_NumCustomers\", \"learnToolsVersion\": \"0.3.4\", \"failureMessage\": \"\", \"exceptionClass\": \"\", \"trace\": \"\"}}, \"*\")"
      ],
      "text/plain": [
       "<IPython.core.display.Javascript object>"
      ]
     },
     "metadata": {},
     "output_type": "display_data"
    },
    {
     "data": {
      "text/markdown": [
       "<span style=\"color:#33cc33\">Correct</span>"
      ],
      "text/plain": [
       "Correct"
      ]
     },
     "metadata": {},
     "output_type": "display_data"
    }
   ],
   "source": [
    "# Do not change: Number of customers each day for the last month\n",
    "num_customers = [137, 147, 135, 128, 170, 174, 165, 146, 126, 159,\n",
    "                 141, 148, 132, 147, 168, 153, 170, 161, 148, 152,\n",
    "                 141, 151, 131, 149, 164, 163, 143, 143, 166, 171]\n",
    "\n",
    "# TODO: Fill in values for the variables below\n",
    "avg_first_seven = sum(num_customers[:7]) / 7\n",
    "avg_last_seven = sum(num_customers[-7:]) / 7 \n",
    "max_month = max(num_customers)\n",
    "min_month = min(num_customers)\n",
    "\n",
    "# Do not change: Check your answer\n",
    "q2.check()"
   ]
  },
  {
   "cell_type": "code",
   "execution_count": 5,
   "id": "7fd33c7a",
   "metadata": {
    "execution": {
     "iopub.execute_input": "2023-03-18T21:06:38.637573Z",
     "iopub.status.busy": "2023-03-18T21:06:38.636868Z",
     "iopub.status.idle": "2023-03-18T21:06:38.640744Z",
     "shell.execute_reply": "2023-03-18T21:06:38.639858Z"
    },
    "papermill": {
     "duration": 0.014814,
     "end_time": "2023-03-18T21:06:38.643049",
     "exception": false,
     "start_time": "2023-03-18T21:06:38.628235",
     "status": "completed"
    },
    "tags": []
   },
   "outputs": [],
   "source": [
    "# Uncomment to see a hint\n",
    "#q2.hint()\n",
    "\n",
    "# Uncomment to see the solution\n",
    "# q2.solution()"
   ]
  },
  {
   "cell_type": "markdown",
   "id": "3b6c00a9",
   "metadata": {
    "papermill": {
     "duration": 0.006607,
     "end_time": "2023-03-18T21:06:38.657022",
     "exception": false,
     "start_time": "2023-03-18T21:06:38.650415",
     "status": "completed"
    },
    "tags": []
   },
   "source": [
    "# Question 3\n",
    "\n",
    "In the tutorial, we gave an example of a Python string with information that was better as a list."
   ]
  },
  {
   "cell_type": "code",
   "execution_count": 6,
   "id": "3d5211bf",
   "metadata": {
    "execution": {
     "iopub.execute_input": "2023-03-18T21:06:38.674102Z",
     "iopub.status.busy": "2023-03-18T21:06:38.673379Z",
     "iopub.status.idle": "2023-03-18T21:06:38.677505Z",
     "shell.execute_reply": "2023-03-18T21:06:38.676693Z"
    },
    "papermill": {
     "duration": 0.014995,
     "end_time": "2023-03-18T21:06:38.679958",
     "exception": false,
     "start_time": "2023-03-18T21:06:38.664963",
     "status": "completed"
    },
    "tags": []
   },
   "outputs": [],
   "source": [
    "flowers = \"pink primrose,hard-leaved pocket orchid,canterbury bells,sweet pea,english marigold,tiger lily,moon orchid,bird of paradise,monkshood,globe thistle\""
   ]
  },
  {
   "cell_type": "markdown",
   "id": "7be2e7ff",
   "metadata": {
    "papermill": {
     "duration": 0.007595,
     "end_time": "2023-03-18T21:06:38.698487",
     "exception": false,
     "start_time": "2023-03-18T21:06:38.690892",
     "status": "completed"
    },
    "tags": []
   },
   "source": [
    "You can actually use Python to quickly turn this string into a list with `.split()`.  In the parentheses, we need to provide the character should be used to mark the end of one list item and the beginning of another, and enclose it in quotation marks.  In this case, that character is a comma."
   ]
  },
  {
   "cell_type": "code",
   "execution_count": 7,
   "id": "82e7b5e9",
   "metadata": {
    "execution": {
     "iopub.execute_input": "2023-03-18T21:06:38.718226Z",
     "iopub.status.busy": "2023-03-18T21:06:38.717397Z",
     "iopub.status.idle": "2023-03-18T21:06:38.725781Z",
     "shell.execute_reply": "2023-03-18T21:06:38.723776Z"
    },
    "papermill": {
     "duration": 0.023,
     "end_time": "2023-03-18T21:06:38.729386",
     "exception": false,
     "start_time": "2023-03-18T21:06:38.706386",
     "status": "completed"
    },
    "tags": []
   },
   "outputs": [
    {
     "name": "stdout",
     "output_type": "stream",
     "text": [
      "['pink primrose', 'hard-leaved pocket orchid', 'canterbury bells', 'sweet pea', 'english marigold', 'tiger lily', 'moon orchid', 'bird of paradise', 'monkshood', 'globe thistle']\n"
     ]
    }
   ],
   "source": [
    " print(flowers.split(\",\"))"
   ]
  },
  {
   "cell_type": "markdown",
   "id": "9a5137c5",
   "metadata": {
    "papermill": {
     "duration": 0.01147,
     "end_time": "2023-03-18T21:06:38.751321",
     "exception": false,
     "start_time": "2023-03-18T21:06:38.739851",
     "status": "completed"
    },
    "tags": []
   },
   "source": [
    "Now it is your turn to try this out!  Create two Python lists:\n",
    "- `letters` should be a Python list where each entry is an uppercase letter of the English alphabet.  For instance, the first two entries should be `\"A\"` and `\"B\"`, and the final two entries should be `\"Y\"` and `\"Z\"`.  Use the string `alphabet` to create this list.\n",
    "- `address` should be a Python list where each row in `address` is a different item in the list.  Currently, each row in `address` is separated by a comma. "
   ]
  },
  {
   "cell_type": "code",
   "execution_count": 8,
   "id": "934993b5",
   "metadata": {
    "execution": {
     "iopub.execute_input": "2023-03-18T21:06:38.770107Z",
     "iopub.status.busy": "2023-03-18T21:06:38.769306Z",
     "iopub.status.idle": "2023-03-18T21:06:38.780784Z",
     "shell.execute_reply": "2023-03-18T21:06:38.779781Z"
    },
    "papermill": {
     "duration": 0.023889,
     "end_time": "2023-03-18T21:06:38.782919",
     "exception": false,
     "start_time": "2023-03-18T21:06:38.759030",
     "status": "completed"
    },
    "tags": []
   },
   "outputs": [
    {
     "data": {
      "application/javascript": [
       "parent.postMessage({\"jupyterEvent\": \"custom.exercise_interaction\", \"data\": {\"outcomeType\": 1, \"valueTowardsCompletion\": 0.2, \"interactionType\": 1, \"questionType\": 1, \"questionId\": \"3_SplitString\", \"learnToolsVersion\": \"0.3.4\", \"failureMessage\": \"\", \"exceptionClass\": \"\", \"trace\": \"\"}}, \"*\")"
      ],
      "text/plain": [
       "<IPython.core.display.Javascript object>"
      ]
     },
     "metadata": {},
     "output_type": "display_data"
    },
    {
     "data": {
      "text/markdown": [
       "<span style=\"color:#33cc33\">Correct</span>"
      ],
      "text/plain": [
       "Correct"
      ]
     },
     "metadata": {},
     "output_type": "display_data"
    }
   ],
   "source": [
    "# DO not change: Define two Python strings\n",
    "alphabet = \"A.B.C.D.E.F.G.H.I.J.K.L.M.N.O.P.Q.R.S.T.U.V.W.X.Y.Z\"\n",
    "address = \"Mr. H. Potter,The cupboard under the Stairs,4 Privet Drive,Little Whinging,Surrey\"\n",
    "\n",
    "# TODO: Convert strings into Python lists\n",
    "letters = alphabet.split('.')\n",
    "formatted_address = address.split(',')\n",
    "\n",
    "# Do not change: Check your answer\n",
    "q3.check()"
   ]
  },
  {
   "cell_type": "code",
   "execution_count": 9,
   "id": "abf1d386",
   "metadata": {
    "execution": {
     "iopub.execute_input": "2023-03-18T21:06:38.799719Z",
     "iopub.status.busy": "2023-03-18T21:06:38.798983Z",
     "iopub.status.idle": "2023-03-18T21:06:38.803471Z",
     "shell.execute_reply": "2023-03-18T21:06:38.802577Z"
    },
    "papermill": {
     "duration": 0.015668,
     "end_time": "2023-03-18T21:06:38.805841",
     "exception": false,
     "start_time": "2023-03-18T21:06:38.790173",
     "status": "completed"
    },
    "tags": []
   },
   "outputs": [],
   "source": [
    "# Uncomment to see a hint\n",
    "#q3.hint()\n",
    "\n",
    "# Uncomment to see the solution\n",
    "#q3.solution()"
   ]
  },
  {
   "cell_type": "markdown",
   "id": "05f115c2",
   "metadata": {
    "papermill": {
     "duration": 0.007019,
     "end_time": "2023-03-18T21:06:38.820469",
     "exception": false,
     "start_time": "2023-03-18T21:06:38.813450",
     "status": "completed"
    },
    "tags": []
   },
   "source": [
    "# Question 4\n",
    "\n",
    "In the Python course, you'll learn all about **list comprehensions**, which allow you to create a list based on the values in another list.  In this question, you'll get a brief preview of how they work.\n",
    "\n",
    "Say we're working with the list below."
   ]
  },
  {
   "cell_type": "code",
   "execution_count": 10,
   "id": "ead8bec7",
   "metadata": {
    "execution": {
     "iopub.execute_input": "2023-03-18T21:06:38.837141Z",
     "iopub.status.busy": "2023-03-18T21:06:38.836750Z",
     "iopub.status.idle": "2023-03-18T21:06:38.841460Z",
     "shell.execute_reply": "2023-03-18T21:06:38.840614Z"
    },
    "papermill": {
     "duration": 0.015885,
     "end_time": "2023-03-18T21:06:38.843633",
     "exception": false,
     "start_time": "2023-03-18T21:06:38.827748",
     "status": "completed"
    },
    "tags": []
   },
   "outputs": [],
   "source": [
    "test_ratings = [1, 2, 3, 4, 5]"
   ]
  },
  {
   "cell_type": "markdown",
   "id": "2083c4f1",
   "metadata": {
    "papermill": {
     "duration": 0.00689,
     "end_time": "2023-03-18T21:06:38.857990",
     "exception": false,
     "start_time": "2023-03-18T21:06:38.851100",
     "status": "completed"
    },
    "tags": []
   },
   "source": [
    "Then we can use this list (`test_ratings`) to create a new list (`test_liked`) where each item has been turned into a boolean, depending on whether or not the item is greater than or equal to four."
   ]
  },
  {
   "cell_type": "code",
   "execution_count": 11,
   "id": "5b99d420",
   "metadata": {
    "execution": {
     "iopub.execute_input": "2023-03-18T21:06:38.874175Z",
     "iopub.status.busy": "2023-03-18T21:06:38.873728Z",
     "iopub.status.idle": "2023-03-18T21:06:38.880439Z",
     "shell.execute_reply": "2023-03-18T21:06:38.878769Z"
    },
    "papermill": {
     "duration": 0.018283,
     "end_time": "2023-03-18T21:06:38.883383",
     "exception": false,
     "start_time": "2023-03-18T21:06:38.865100",
     "status": "completed"
    },
    "tags": []
   },
   "outputs": [
    {
     "name": "stdout",
     "output_type": "stream",
     "text": [
      "[False, False, False, True, True]\n"
     ]
    }
   ],
   "source": [
    "test_liked = [i>=4 for i in test_ratings]\n",
    "print(test_liked)"
   ]
  },
  {
   "cell_type": "markdown",
   "id": "2c812e59",
   "metadata": {
    "papermill": {
     "duration": 0.006973,
     "end_time": "2023-03-18T21:06:38.897857",
     "exception": false,
     "start_time": "2023-03-18T21:06:38.890884",
     "status": "completed"
    },
    "tags": []
   },
   "source": [
    "In this question, you'll use this list comprehension to define a function `percentage_liked()` that takes one argument as input:\n",
    "- `ratings`: list of ratings that people gave to a movie, where each rating is a number between 1-5, inclusive\n",
    "\n",
    "We say someone liked the movie, if they gave a rating of either 4 or 5.  Your function should return the percentage of people who liked the movie.\n",
    "\n",
    "For instance, if we supply a value of `[1, 2, 3, 4, 5, 4, 5, 1]`, then 50% (4/8) of the people liked the movie, and the function should return `0.5`.\n",
    "\n",
    "Part of the function has already been completed for you.  You need only use `list_liked` to calculate `percentage_liked`."
   ]
  },
  {
   "cell_type": "code",
   "execution_count": 12,
   "id": "1275f435",
   "metadata": {
    "execution": {
     "iopub.execute_input": "2023-03-18T21:06:38.914667Z",
     "iopub.status.busy": "2023-03-18T21:06:38.913985Z",
     "iopub.status.idle": "2023-03-18T21:06:38.922706Z",
     "shell.execute_reply": "2023-03-18T21:06:38.921825Z"
    },
    "papermill": {
     "duration": 0.019924,
     "end_time": "2023-03-18T21:06:38.924959",
     "exception": false,
     "start_time": "2023-03-18T21:06:38.905035",
     "status": "completed"
    },
    "tags": []
   },
   "outputs": [
    {
     "data": {
      "application/javascript": [
       "parent.postMessage({\"jupyterEvent\": \"custom.exercise_interaction\", \"data\": {\"outcomeType\": 1, \"valueTowardsCompletion\": 0.2, \"interactionType\": 1, \"questionType\": 2, \"questionId\": \"4_PercentageLiked\", \"learnToolsVersion\": \"0.3.4\", \"failureMessage\": \"\", \"exceptionClass\": \"\", \"trace\": \"\"}}, \"*\")"
      ],
      "text/plain": [
       "<IPython.core.display.Javascript object>"
      ]
     },
     "metadata": {},
     "output_type": "display_data"
    },
    {
     "data": {
      "text/markdown": [
       "<span style=\"color:#33cc33\">Correct</span>"
      ],
      "text/plain": [
       "Correct"
      ]
     },
     "metadata": {},
     "output_type": "display_data"
    }
   ],
   "source": [
    "\n",
    "def percentage_liked(ratings):\n",
    "    list_liked = [i>=4 for i in ratings]\n",
    "    # TODO: Complete the function\n",
    "    percentage_liked = sum(list_liked)/len(ratings)\n",
    "    return percentage_liked\n",
    "\n",
    "# Do not change: should return 0.5\n",
    "percentage_liked([1, 2, 3, 4, 5, 4, 5, 1])\n",
    "\n",
    "# Do not change: Check your answer\n",
    "q4.check()"
   ]
  },
  {
   "cell_type": "code",
   "execution_count": 13,
   "id": "99920af5",
   "metadata": {
    "execution": {
     "iopub.execute_input": "2023-03-18T21:06:38.942516Z",
     "iopub.status.busy": "2023-03-18T21:06:38.941839Z",
     "iopub.status.idle": "2023-03-18T21:06:38.945629Z",
     "shell.execute_reply": "2023-03-18T21:06:38.944781Z"
    },
    "papermill": {
     "duration": 0.015075,
     "end_time": "2023-03-18T21:06:38.947849",
     "exception": false,
     "start_time": "2023-03-18T21:06:38.932774",
     "status": "completed"
    },
    "tags": []
   },
   "outputs": [],
   "source": [
    "# Uncomment to see a hint\n",
    "# q4.hint()\n",
    "\n",
    "# Uncomment to see the solution\n",
    "# q4.solution()"
   ]
  },
  {
   "cell_type": "markdown",
   "id": "795f9594",
   "metadata": {
    "papermill": {
     "duration": 0.007347,
     "end_time": "2023-03-18T21:06:38.962854",
     "exception": false,
     "start_time": "2023-03-18T21:06:38.955507",
     "status": "completed"
    },
    "tags": []
   },
   "source": [
    "# 🌶️ Question 5\n",
    " \n",
    "Say you're doing analytics for a website.  You need to write a function that returns the percentage growth in the total number of users relative to a specified number of years ago.\n",
    "\n",
    "Your function `percentage_growth()` should take two arguments as input:\n",
    "- `num_users` = Python list with the total number of users each year.  So `num_users[0]` is the total number of users in the first year, `num_users[1]` is the total number of users in the second year, and so on.  The final entry in the list gives the total number of users in the most recently completed year.\n",
    "- `yrs_ago` = number of years to go back in time when calculating the growth percentage\n",
    "\n",
    "For instance, say `num_users = [920344, 1043553, 1204334, 1458996, 1503323, 1593432, 1623463, 1843064, 1930992, 2001078]`.\n",
    "- if `yrs_ago = 1`, we want the function to return a value of about `0.036`. This corresponds to a percentage growth of approximately 3.6%, calculated as (2001078 - 1930992)/1930992.\n",
    "- if `years_ago = 7`, we would want to return approximately `0.66`.  This corresponds to a percentage growth of approximately 66%, calculated as (2001078 - 1204334)/1204334.\n",
    "\n",
    "Your coworker sent you a draft of a function, but it doesn't seem to be doing the correct calculation.  Can you figure out what has gone wrong and make the needed changes?"
   ]
  },
  {
   "cell_type": "code",
   "execution_count": 14,
   "id": "c4086f3d",
   "metadata": {
    "execution": {
     "iopub.execute_input": "2023-03-18T21:06:38.980172Z",
     "iopub.status.busy": "2023-03-18T21:06:38.979532Z",
     "iopub.status.idle": "2023-03-18T21:06:38.992246Z",
     "shell.execute_reply": "2023-03-18T21:06:38.990740Z"
    },
    "papermill": {
     "duration": 0.024387,
     "end_time": "2023-03-18T21:06:38.994870",
     "exception": false,
     "start_time": "2023-03-18T21:06:38.970483",
     "status": "completed"
    },
    "tags": []
   },
   "outputs": [
    {
     "name": "stdout",
     "output_type": "stream",
     "text": [
      "0.03629533421163837\n",
      "0.6615639847417742\n"
     ]
    },
    {
     "data": {
      "application/javascript": [
       "parent.postMessage({\"jupyterEvent\": \"custom.exercise_interaction\", \"data\": {\"outcomeType\": 1, \"valueTowardsCompletion\": 0.2, \"interactionType\": 1, \"questionType\": 2, \"questionId\": \"5_WebsiteAnalytics\", \"learnToolsVersion\": \"0.3.4\", \"failureMessage\": \"\", \"exceptionClass\": \"\", \"trace\": \"\"}}, \"*\")"
      ],
      "text/plain": [
       "<IPython.core.display.Javascript object>"
      ]
     },
     "metadata": {},
     "output_type": "display_data"
    },
    {
     "data": {
      "text/markdown": [
       "<span style=\"color:#33cc33\">Correct</span>"
      ],
      "text/plain": [
       "Correct"
      ]
     },
     "metadata": {},
     "output_type": "display_data"
    }
   ],
   "source": [
    "# TODO: Edit the function\n",
    "def percentage_growth(num_users, yrs_ago):\n",
    "    growth = (num_users[len(num_users)-1] - num_users[len(num_users)-yrs_ago-1])/num_users[len(num_users)-yrs_ago-1]\n",
    "    return growth\n",
    "\n",
    "# Do not change: Variable for calculating some test examples\n",
    "num_users_test = [920344, 1043553, 1204334, 1458996, 1503323, 1593432, 1623463, 1843064, 1930992, 2001078]\n",
    "\n",
    "# Do not change: Should return .036\n",
    "print(percentage_growth(num_users_test, 1))\n",
    "\n",
    "# Do not change: Should return 0.66\n",
    "print(percentage_growth(num_users_test, 7))\n",
    "\n",
    "# Do not change: Check your answer\n",
    "q5.check()"
   ]
  },
  {
   "cell_type": "code",
   "execution_count": 15,
   "id": "3ed46533",
   "metadata": {
    "execution": {
     "iopub.execute_input": "2023-03-18T21:06:39.012960Z",
     "iopub.status.busy": "2023-03-18T21:06:39.012538Z",
     "iopub.status.idle": "2023-03-18T21:06:39.017765Z",
     "shell.execute_reply": "2023-03-18T21:06:39.016454Z"
    },
    "papermill": {
     "duration": 0.018449,
     "end_time": "2023-03-18T21:06:39.021330",
     "exception": false,
     "start_time": "2023-03-18T21:06:39.002881",
     "status": "completed"
    },
    "tags": []
   },
   "outputs": [],
   "source": [
    "# Uncomment to see a hint\n",
    "# q5.hint()\n",
    "\n",
    "# Uncomment to see the solution\n",
    "# q5.solution()"
   ]
  },
  {
   "cell_type": "markdown",
   "id": "1e4f5ca5",
   "metadata": {
    "papermill": {
     "duration": 0.007565,
     "end_time": "2023-03-18T21:06:39.037297",
     "exception": false,
     "start_time": "2023-03-18T21:06:39.029732",
     "status": "completed"
    },
    "tags": []
   },
   "source": [
    "# Congratulations!\n",
    "\n",
    "Congratulations for finishing the Intro to Programming course!  You should be proud of your very first steps with learning programming.  As next steps, we recommend taking:\n",
    "- the **[Python course](http://www.kaggle.com/learn/python)**, and \n",
    "- the **[Intro to Machine Learning course](https://www.kaggle.com/learn/intro-to-machine-learning)**."
   ]
  },
  {
   "cell_type": "markdown",
   "id": "f0c08d3f",
   "metadata": {
    "papermill": {
     "duration": 0.007631,
     "end_time": "2023-03-18T21:06:39.052731",
     "exception": false,
     "start_time": "2023-03-18T21:06:39.045100",
     "status": "completed"
    },
    "tags": []
   },
   "source": [
    "---\n",
    "\n",
    "\n",
    "\n",
    "\n",
    "*Have questions or comments? Visit the [course discussion forum](https://www.kaggle.com/learn/intro-to-programming/discussion) to chat with other learners.*"
   ]
  }
 ],
 "metadata": {
  "kernelspec": {
   "display_name": "Python 3",
   "language": "python",
   "name": "python3"
  },
  "language_info": {
   "codemirror_mode": {
    "name": "ipython",
    "version": 3
   },
   "file_extension": ".py",
   "mimetype": "text/x-python",
   "name": "python",
   "nbconvert_exporter": "python",
   "pygments_lexer": "ipython3",
   "version": "3.7.12"
  },
  "papermill": {
   "default_parameters": {},
   "duration": 11.697727,
   "end_time": "2023-03-18T21:06:39.783465",
   "environment_variables": {},
   "exception": null,
   "input_path": "__notebook__.ipynb",
   "output_path": "__notebook__.ipynb",
   "parameters": {},
   "start_time": "2023-03-18T21:06:28.085738",
   "version": "2.4.0"
  }
 },
 "nbformat": 4,
 "nbformat_minor": 5
}

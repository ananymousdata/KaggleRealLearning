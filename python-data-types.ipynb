{
 "cells": [
  {
   "cell_type": "markdown",
   "id": "237a768a",
   "metadata": {
    "papermill": {
     "duration": 0.007855,
     "end_time": "2023-03-18T20:29:21.702344",
     "exception": false,
     "start_time": "2023-03-18T20:29:21.694489",
     "status": "completed"
    },
    "tags": []
   },
   "source": [
    "**This notebook is an exercise in the [Intro to Programming](https://www.kaggle.com/learn/intro-to-programming) course.  You can reference the tutorial at [this link](https://www.kaggle.com/alexisbcook/data-types).**\n",
    "\n",
    "---\n"
   ]
  },
  {
   "cell_type": "markdown",
   "id": "1023885c",
   "metadata": {
    "papermill": {
     "duration": 0.006248,
     "end_time": "2023-03-18T20:29:21.715289",
     "exception": false,
     "start_time": "2023-03-18T20:29:21.709041",
     "status": "completed"
    },
    "tags": []
   },
   "source": [
    "In the tutorial, you learned about four different data types: floats, integers, strings, and booleans.  In this exercise, you'll experiment with them.\n",
    "\n",
    "# Set up the notebook\n",
    "\n",
    "Run the next code cell without changes to set up the notebook."
   ]
  },
  {
   "cell_type": "code",
   "execution_count": 1,
   "id": "098f1879",
   "metadata": {
    "execution": {
     "iopub.execute_input": "2023-03-18T20:29:21.730927Z",
     "iopub.status.busy": "2023-03-18T20:29:21.730268Z",
     "iopub.status.idle": "2023-03-18T20:29:21.780695Z",
     "shell.execute_reply": "2023-03-18T20:29:21.779419Z"
    },
    "papermill": {
     "duration": 0.062097,
     "end_time": "2023-03-18T20:29:21.783824",
     "exception": false,
     "start_time": "2023-03-18T20:29:21.721727",
     "status": "completed"
    },
    "tags": []
   },
   "outputs": [
    {
     "name": "stdout",
     "output_type": "stream",
     "text": [
      "Setup complete.\n"
     ]
    }
   ],
   "source": [
    "# Set up the exercise\n",
    "from learntools.core import binder\n",
    "binder.bind(globals())\n",
    "from learntools.intro_to_programming.ex3 import *\n",
    "print('Setup complete.')"
   ]
  },
  {
   "cell_type": "markdown",
   "id": "07012b62",
   "metadata": {
    "papermill": {
     "duration": 0.006246,
     "end_time": "2023-03-18T20:29:21.796693",
     "exception": false,
     "start_time": "2023-03-18T20:29:21.790447",
     "status": "completed"
    },
    "tags": []
   },
   "source": [
    "# Question 1\n",
    "\n",
    "You have seen how to convert a float to an integer with the `int` function.  Try this out yourself by running the code cell below."
   ]
  },
  {
   "cell_type": "code",
   "execution_count": 2,
   "id": "916766b6",
   "metadata": {
    "execution": {
     "iopub.execute_input": "2023-03-18T20:29:21.811776Z",
     "iopub.status.busy": "2023-03-18T20:29:21.811366Z",
     "iopub.status.idle": "2023-03-18T20:29:21.818519Z",
     "shell.execute_reply": "2023-03-18T20:29:21.817273Z"
    },
    "papermill": {
     "duration": 0.018388,
     "end_time": "2023-03-18T20:29:21.821525",
     "exception": false,
     "start_time": "2023-03-18T20:29:21.803137",
     "status": "completed"
    },
    "tags": []
   },
   "outputs": [
    {
     "name": "stdout",
     "output_type": "stream",
     "text": [
      "1.0\n",
      "<class 'float'>\n",
      "1\n",
      "<class 'int'>\n"
     ]
    }
   ],
   "source": [
    "# Define a float\n",
    "y = 1.\n",
    "print(y)\n",
    "print(type(y))\n",
    "\n",
    "# Convert float to integer with the int function\n",
    "z = int(y)\n",
    "print(z)\n",
    "print(type(z))"
   ]
  },
  {
   "cell_type": "markdown",
   "id": "7f5d3087",
   "metadata": {
    "papermill": {
     "duration": 0.006474,
     "end_time": "2023-03-18T20:29:21.835073",
     "exception": false,
     "start_time": "2023-03-18T20:29:21.828599",
     "status": "completed"
    },
    "tags": []
   },
   "source": [
    "In this case, the float you are using has no numbers after the decimal.  \n",
    "- But what happens when you try to convert a float with a fractional part to an integer?  \n",
    "- How does the outcome of the `int` function change for positive and negative numbers?\n",
    "\n",
    "Use the next code cell to investigate and answer these questions.  Feel free to add or remove any lines of code -- it is your workspace!"
   ]
  },
  {
   "cell_type": "code",
   "execution_count": 3,
   "id": "6a4bee0b",
   "metadata": {
    "execution": {
     "iopub.execute_input": "2023-03-18T20:29:21.850998Z",
     "iopub.status.busy": "2023-03-18T20:29:21.850219Z",
     "iopub.status.idle": "2023-03-18T20:29:21.856887Z",
     "shell.execute_reply": "2023-03-18T20:29:21.855340Z"
    },
    "papermill": {
     "duration": 0.019078,
     "end_time": "2023-03-18T20:29:21.860958",
     "exception": false,
     "start_time": "2023-03-18T20:29:21.841880",
     "status": "completed"
    },
    "tags": []
   },
   "outputs": [
    {
     "name": "stdout",
     "output_type": "stream",
     "text": [
      "1\n",
      "1\n",
      "-3\n",
      "-2\n"
     ]
    }
   ],
   "source": [
    "# Uncomment and run this code to get started!\n",
    "print(int(1.2321))\n",
    "print(int(1.747))\n",
    "print(int(-3.94535))\n",
    "print(int(-2.19774))"
   ]
  },
  {
   "cell_type": "markdown",
   "id": "5789654f",
   "metadata": {
    "papermill": {
     "duration": 0.006512,
     "end_time": "2023-03-18T20:29:21.874634",
     "exception": false,
     "start_time": "2023-03-18T20:29:21.868122",
     "status": "completed"
    },
    "tags": []
   },
   "source": [
    "Once you have an answer, run the code cell below to see the solution.  Viewing the solution will give you credit for answering the problem."
   ]
  },
  {
   "cell_type": "code",
   "execution_count": 4,
   "id": "ae917a6e",
   "metadata": {
    "execution": {
     "iopub.execute_input": "2023-03-18T20:29:21.890134Z",
     "iopub.status.busy": "2023-03-18T20:29:21.889281Z",
     "iopub.status.idle": "2023-03-18T20:29:21.899194Z",
     "shell.execute_reply": "2023-03-18T20:29:21.898221Z"
    },
    "papermill": {
     "duration": 0.020237,
     "end_time": "2023-03-18T20:29:21.901486",
     "exception": false,
     "start_time": "2023-03-18T20:29:21.881249",
     "status": "completed"
    },
    "tags": []
   },
   "outputs": [
    {
     "data": {
      "application/javascript": [
       "parent.postMessage({\"jupyterEvent\": \"custom.exercise_interaction\", \"data\": {\"outcomeType\": 1, \"valueTowardsCompletion\": 0.2, \"interactionType\": 1, \"questionType\": 4, \"questionId\": \"1_FloatToInt\", \"learnToolsVersion\": \"0.3.4\", \"failureMessage\": \"\", \"exceptionClass\": \"\", \"trace\": \"\"}}, \"*\")"
      ],
      "text/plain": [
       "<IPython.core.display.Javascript object>"
      ]
     },
     "metadata": {},
     "output_type": "display_data"
    },
    {
     "data": {
      "text/markdown": [
       "<span style=\"color:#33cc33\">Correct:</span> \n",
       "\n",
       "Negative floats are always rounded UP to the closest integer (for instance, both -1.1 and -1.9 are rounded up to -1). Positive floats are always rounded DOWN to the closest integer (for instance, 2.1 and 2.9 are rounded down to 2)."
      ],
      "text/plain": [
       "Correct: \n",
       "\n",
       "Negative floats are always rounded UP to the closest integer (for instance, both -1.1 and -1.9 are rounded up to -1). Positive floats are always rounded DOWN to the closest integer (for instance, 2.1 and 2.9 are rounded down to 2)."
      ]
     },
     "metadata": {},
     "output_type": "display_data"
    }
   ],
   "source": [
    "# Check your answer (Run this code cell to receive credit!)\n",
    "q1.check()"
   ]
  },
  {
   "cell_type": "markdown",
   "id": "97a4ede9",
   "metadata": {
    "papermill": {
     "duration": 0.006882,
     "end_time": "2023-03-18T20:29:21.915292",
     "exception": false,
     "start_time": "2023-03-18T20:29:21.908410",
     "status": "completed"
    },
    "tags": []
   },
   "source": [
    "# Question 2\n",
    "\n",
    "In the tutorial, you learned about booleans (which can take a value of `True` or `False`), in addition to integers, floats, and strings.  For this question, your goal is to determine what happens when you multiply a boolean by any of these data types.  Specifically, \n",
    "- What happens when you multiply an integer or float by `True`?  What happens when you multiply them by `False`?  How does the answer change if the numbers are positive or negative?\n",
    "- What happens when you multiply a string by `True`?  By `False`?\n",
    "\n",
    "Use the next code cell for your investigation. "
   ]
  },
  {
   "cell_type": "code",
   "execution_count": 5,
   "id": "4ac5a7b9",
   "metadata": {
    "execution": {
     "iopub.execute_input": "2023-03-18T20:29:21.930974Z",
     "iopub.status.busy": "2023-03-18T20:29:21.930505Z",
     "iopub.status.idle": "2023-03-18T20:29:21.937990Z",
     "shell.execute_reply": "2023-03-18T20:29:21.936401Z"
    },
    "papermill": {
     "duration": 0.0198,
     "end_time": "2023-03-18T20:29:21.941808",
     "exception": false,
     "start_time": "2023-03-18T20:29:21.922008",
     "status": "completed"
    },
    "tags": []
   },
   "outputs": [
    {
     "name": "stdout",
     "output_type": "stream",
     "text": [
      "3\n",
      "-3.1\n",
      "<class 'str'>\n",
      "0\n"
     ]
    }
   ],
   "source": [
    "# Uncomment and run this code to get started!\n",
    "print(3 * True)\n",
    "print(-3.1 * True)\n",
    "print(type(\"abc\" * False))\n",
    "print(len(\"abc\" * False))"
   ]
  },
  {
   "cell_type": "markdown",
   "id": "77a9e301",
   "metadata": {
    "papermill": {
     "duration": 0.006969,
     "end_time": "2023-03-18T20:29:21.957113",
     "exception": false,
     "start_time": "2023-03-18T20:29:21.950144",
     "status": "completed"
    },
    "tags": []
   },
   "source": [
    "Once you have an answer, run the code cell below to see the solution.  Viewing the solution will give you credit for answering the problem."
   ]
  },
  {
   "cell_type": "code",
   "execution_count": 6,
   "id": "21f8f8a2",
   "metadata": {
    "execution": {
     "iopub.execute_input": "2023-03-18T20:29:21.973302Z",
     "iopub.status.busy": "2023-03-18T20:29:21.972527Z",
     "iopub.status.idle": "2023-03-18T20:29:21.982369Z",
     "shell.execute_reply": "2023-03-18T20:29:21.981233Z"
    },
    "papermill": {
     "duration": 0.020478,
     "end_time": "2023-03-18T20:29:21.984658",
     "exception": false,
     "start_time": "2023-03-18T20:29:21.964180",
     "status": "completed"
    },
    "tags": []
   },
   "outputs": [
    {
     "data": {
      "application/javascript": [
       "parent.postMessage({\"jupyterEvent\": \"custom.exercise_interaction\", \"data\": {\"outcomeType\": 1, \"valueTowardsCompletion\": 0.2, \"interactionType\": 1, \"questionType\": 4, \"questionId\": \"2_MultiplyBooleans\", \"learnToolsVersion\": \"0.3.4\", \"failureMessage\": \"\", \"exceptionClass\": \"\", \"trace\": \"\"}}, \"*\")"
      ],
      "text/plain": [
       "<IPython.core.display.Javascript object>"
      ]
     },
     "metadata": {},
     "output_type": "display_data"
    },
    {
     "data": {
      "text/markdown": [
       "<span style=\"color:#33cc33\">Correct:</span> \n",
       "\n",
       "When you multiple an integer or float by a boolean with value `True`, it just returns that same integer or float (and is equivalent to multiplying by 1).  If you multiply an integer or float by a boolean with value `False`, it always returns 0.  This is true for both positive and negative numbers.  If you multiply a string by a boolean with value `True`, it just returns that same string.  And if you multiply a string by a boolean with value `False`, it returns an empty string (or a string with length zero)."
      ],
      "text/plain": [
       "Correct: \n",
       "\n",
       "When you multiple an integer or float by a boolean with value `True`, it just returns that same integer or float (and is equivalent to multiplying by 1).  If you multiply an integer or float by a boolean with value `False`, it always returns 0.  This is true for both positive and negative numbers.  If you multiply a string by a boolean with value `True`, it just returns that same string.  And if you multiply a string by a boolean with value `False`, it returns an empty string (or a string with length zero)."
      ]
     },
     "metadata": {},
     "output_type": "display_data"
    }
   ],
   "source": [
    "# Check your answer (Run this code cell to receive credit!)\n",
    "q2.check()"
   ]
  },
  {
   "cell_type": "markdown",
   "id": "b1e3eba5",
   "metadata": {
    "papermill": {
     "duration": 0.006828,
     "end_time": "2023-03-18T20:29:21.998807",
     "exception": false,
     "start_time": "2023-03-18T20:29:21.991979",
     "status": "completed"
    },
    "tags": []
   },
   "source": [
    "# Question 3\n",
    "\n",
    "In this question, you will build off your work from the previous exercise to write a function that estimates the value of a house.\n",
    "\n",
    "Use the next code cell to create a function `get_expected_cost` that takes as input three variables:\n",
    "- `beds` - number of bedrooms (data type float)\n",
    "- `baths` - number of bathrooms (data type float)\n",
    "- `has_basement` - whether or not the house has a basement (data type boolean)\n",
    "\n",
    "It should return the expected cost of a house with those characteristics. Assume that:\n",
    "- the expected cost for a house with 0 bedrooms and 0 bathrooms, and no basement is 80000, \n",
    "- each bedroom adds 30000 to the expected cost,\n",
    "- each bathroom adds 10000 to the expected cost, and\n",
    "- a basement adds 40000 to the expected cost.\n",
    "\n",
    "For instance,\n",
    "- a house with 1 bedroom, 1 bathroom, and no basement has an expected cost of 80000 + 30000 + 10000 = 120000.  This value will be calculated with `get_expected_cost(1, 1, False)`.\n",
    "- a house with 2 bedrooms, 1 bathroom, and a basement has an expected cost of 80000 + 2*30000 + 10000 + 40000 = 190000.  This value will be calculated with `get_expected_cost(2, 1, True)`.\n",
    "\n",
    "Remember you can always get a hint by uncommenting `q3.hint()` in the code cell following the next!"
   ]
  },
  {
   "cell_type": "code",
   "execution_count": 7,
   "id": "35d8cd56",
   "metadata": {
    "execution": {
     "iopub.execute_input": "2023-03-18T20:29:22.016150Z",
     "iopub.status.busy": "2023-03-18T20:29:22.015027Z",
     "iopub.status.idle": "2023-03-18T20:29:22.026197Z",
     "shell.execute_reply": "2023-03-18T20:29:22.024748Z"
    },
    "papermill": {
     "duration": 0.022224,
     "end_time": "2023-03-18T20:29:22.028658",
     "exception": false,
     "start_time": "2023-03-18T20:29:22.006434",
     "status": "completed"
    },
    "tags": []
   },
   "outputs": [
    {
     "data": {
      "application/javascript": [
       "parent.postMessage({\"jupyterEvent\": \"custom.exercise_interaction\", \"data\": {\"outcomeType\": 1, \"valueTowardsCompletion\": 0.2, \"interactionType\": 1, \"questionType\": 2, \"questionId\": \"3_EstimateHouseValueBool\", \"learnToolsVersion\": \"0.3.4\", \"failureMessage\": \"\", \"exceptionClass\": \"\", \"trace\": \"\"}}, \"*\")"
      ],
      "text/plain": [
       "<IPython.core.display.Javascript object>"
      ]
     },
     "metadata": {},
     "output_type": "display_data"
    },
    {
     "data": {
      "text/markdown": [
       "<span style=\"color:#33cc33\">Correct</span>"
      ],
      "text/plain": [
       "Correct"
      ]
     },
     "metadata": {},
     "output_type": "display_data"
    }
   ],
   "source": [
    "# TODO: Complete the function\n",
    "def get_expected_cost(beds, baths, has_basement):\n",
    "    value = 80000 + (beds * 30000) + (baths * 10000) + (has_basement * 40000)\n",
    "    return value\n",
    "\n",
    "# Check your answer \n",
    "q3.check()"
   ]
  },
  {
   "cell_type": "code",
   "execution_count": 8,
   "id": "d859f9ee",
   "metadata": {
    "execution": {
     "iopub.execute_input": "2023-03-18T20:29:22.045435Z",
     "iopub.status.busy": "2023-03-18T20:29:22.045042Z",
     "iopub.status.idle": "2023-03-18T20:29:22.050059Z",
     "shell.execute_reply": "2023-03-18T20:29:22.048790Z"
    },
    "papermill": {
     "duration": 0.016274,
     "end_time": "2023-03-18T20:29:22.052547",
     "exception": false,
     "start_time": "2023-03-18T20:29:22.036273",
     "status": "completed"
    },
    "tags": []
   },
   "outputs": [],
   "source": [
    "# Uncomment to see a hint\n",
    "#q3.hint()\n",
    "\n",
    "# Uncomment to view the solution\n",
    "#q3.solution()"
   ]
  },
  {
   "cell_type": "markdown",
   "id": "a82b009c",
   "metadata": {
    "papermill": {
     "duration": 0.007052,
     "end_time": "2023-03-18T20:29:22.067035",
     "exception": false,
     "start_time": "2023-03-18T20:29:22.059983",
     "status": "completed"
    },
    "tags": []
   },
   "source": [
    "# Question 4\n",
    "\n",
    "We'll continue our study of boolean arithmetic.  For this question, your task is to provide a description of what happpens when you add booleans. \n",
    "\n",
    "Use the next code cell for your investigation.  Feel free to add or remove any lines of code - use it as your workspace!"
   ]
  },
  {
   "cell_type": "code",
   "execution_count": 9,
   "id": "65a913fa",
   "metadata": {
    "execution": {
     "iopub.execute_input": "2023-03-18T20:29:22.084167Z",
     "iopub.status.busy": "2023-03-18T20:29:22.083731Z",
     "iopub.status.idle": "2023-03-18T20:29:22.090764Z",
     "shell.execute_reply": "2023-03-18T20:29:22.089521Z"
    },
    "papermill": {
     "duration": 0.018376,
     "end_time": "2023-03-18T20:29:22.093266",
     "exception": false,
     "start_time": "2023-03-18T20:29:22.074890",
     "status": "completed"
    },
    "tags": []
   },
   "outputs": [
    {
     "name": "stdout",
     "output_type": "stream",
     "text": [
      "0\n",
      "1\n",
      "1\n",
      "2\n",
      "3\n"
     ]
    }
   ],
   "source": [
    "print(False + False)\n",
    "print(True + False)\n",
    "print(False + True)\n",
    "print(True + True)\n",
    "print(False + True + True + True)"
   ]
  },
  {
   "cell_type": "markdown",
   "id": "3a1bf337",
   "metadata": {
    "papermill": {
     "duration": 0.007223,
     "end_time": "2023-03-18T20:29:22.108280",
     "exception": false,
     "start_time": "2023-03-18T20:29:22.101057",
     "status": "completed"
    },
    "tags": []
   },
   "source": [
    "Once you have an answer, run the code cell below to see the solution.  Viewing the solution will give you credit for answering the problem."
   ]
  },
  {
   "cell_type": "code",
   "execution_count": 10,
   "id": "226f816f",
   "metadata": {
    "execution": {
     "iopub.execute_input": "2023-03-18T20:29:22.125897Z",
     "iopub.status.busy": "2023-03-18T20:29:22.124613Z",
     "iopub.status.idle": "2023-03-18T20:29:22.135304Z",
     "shell.execute_reply": "2023-03-18T20:29:22.133977Z"
    },
    "papermill": {
     "duration": 0.021976,
     "end_time": "2023-03-18T20:29:22.137811",
     "exception": false,
     "start_time": "2023-03-18T20:29:22.115835",
     "status": "completed"
    },
    "tags": []
   },
   "outputs": [
    {
     "data": {
      "application/javascript": [
       "parent.postMessage({\"jupyterEvent\": \"custom.exercise_interaction\", \"data\": {\"outcomeType\": 1, \"valueTowardsCompletion\": 0.2, \"interactionType\": 1, \"questionType\": 4, \"questionId\": \"4_AddingBooleans\", \"learnToolsVersion\": \"0.3.4\", \"failureMessage\": \"\", \"exceptionClass\": \"\", \"trace\": \"\"}}, \"*\")"
      ],
      "text/plain": [
       "<IPython.core.display.Javascript object>"
      ]
     },
     "metadata": {},
     "output_type": "display_data"
    },
    {
     "data": {
      "text/markdown": [
       "<span style=\"color:#33cc33\">Correct:</span> \n",
       "\n",
       "When you add booleans, adding `False` is equivalent to adding 0, and adding `True` is equivalent to adding 1."
      ],
      "text/plain": [
       "Correct: \n",
       "\n",
       "When you add booleans, adding `False` is equivalent to adding 0, and adding `True` is equivalent to adding 1."
      ]
     },
     "metadata": {},
     "output_type": "display_data"
    }
   ],
   "source": [
    "# Check your answer (Run this code cell to receive credit!)\n",
    "q4.check()"
   ]
  },
  {
   "cell_type": "markdown",
   "id": "261b33d9",
   "metadata": {
    "papermill": {
     "duration": 0.007831,
     "end_time": "2023-03-18T20:29:22.153419",
     "exception": false,
     "start_time": "2023-03-18T20:29:22.145588",
     "status": "completed"
    },
    "tags": []
   },
   "source": [
    "# 🌶️ Question 5\n",
    "\n",
    "You own an online shop where you sell rings with custom engravings.  You offer both gold plated and solid gold rings.\n",
    "- Gold plated rings have a base cost of \\\\$50, and you charge \\\\$7 per engraved unit.  \n",
    "- Solid gold rings have a base cost of \\\\$100, and you charge \\\\$10 per engraved unit.\n",
    "- Spaces and punctuation are counted as engraved units.\n",
    "\n",
    "Write a function `cost_of_project()` that takes two arguments:\n",
    "- `engraving` - a Python string with the text of the engraving\n",
    "- `solid_gold` - a Boolean that indicates whether the ring is solid gold\n",
    "\n",
    "It should return the cost of the project.  This question should be fairly challenging, and you may need a hint."
   ]
  },
  {
   "cell_type": "code",
   "execution_count": 11,
   "id": "4104b2b7",
   "metadata": {
    "execution": {
     "iopub.execute_input": "2023-03-18T20:29:22.171052Z",
     "iopub.status.busy": "2023-03-18T20:29:22.170262Z",
     "iopub.status.idle": "2023-03-18T20:29:22.179692Z",
     "shell.execute_reply": "2023-03-18T20:29:22.178612Z"
    },
    "papermill": {
     "duration": 0.02097,
     "end_time": "2023-03-18T20:29:22.182176",
     "exception": false,
     "start_time": "2023-03-18T20:29:22.161206",
     "status": "completed"
    },
    "tags": []
   },
   "outputs": [
    {
     "data": {
      "application/javascript": [
       "parent.postMessage({\"jupyterEvent\": \"custom.exercise_interaction\", \"data\": {\"outcomeType\": 1, \"valueTowardsCompletion\": 0.2, \"interactionType\": 1, \"questionType\": 2, \"questionId\": \"5_CustomEngravings\", \"learnToolsVersion\": \"0.3.4\", \"failureMessage\": \"\", \"exceptionClass\": \"\", \"trace\": \"\"}}, \"*\")"
      ],
      "text/plain": [
       "<IPython.core.display.Javascript object>"
      ]
     },
     "metadata": {},
     "output_type": "display_data"
    },
    {
     "data": {
      "text/markdown": [
       "<span style=\"color:#33cc33\">Correct</span>"
      ],
      "text/plain": [
       "Correct"
      ]
     },
     "metadata": {},
     "output_type": "display_data"
    }
   ],
   "source": [
    "def cost_of_project(engraving, solid_gold):\n",
    "    cost = solid_gold * (100 + 10 * (len(engraving))) + (not solid_gold) * (50 + 7 * (len(engraving)))\n",
    "    return cost\n",
    "\n",
    "# Check your answer\n",
    "q5.check()"
   ]
  },
  {
   "cell_type": "code",
   "execution_count": 12,
   "id": "601001b3",
   "metadata": {
    "execution": {
     "iopub.execute_input": "2023-03-18T20:29:22.200750Z",
     "iopub.status.busy": "2023-03-18T20:29:22.199971Z",
     "iopub.status.idle": "2023-03-18T20:29:22.204651Z",
     "shell.execute_reply": "2023-03-18T20:29:22.203531Z"
    },
    "papermill": {
     "duration": 0.016444,
     "end_time": "2023-03-18T20:29:22.206882",
     "exception": false,
     "start_time": "2023-03-18T20:29:22.190438",
     "status": "completed"
    },
    "tags": []
   },
   "outputs": [],
   "source": [
    "# Uncomment to see a hint\n",
    "# q5.hint()\n",
    "\n",
    "# Uncomment to view the solution\n",
    "# q5.solution()"
   ]
  },
  {
   "cell_type": "markdown",
   "id": "88237297",
   "metadata": {
    "papermill": {
     "duration": 0.007785,
     "end_time": "2023-03-18T20:29:22.222657",
     "exception": false,
     "start_time": "2023-03-18T20:29:22.214872",
     "status": "completed"
    },
    "tags": []
   },
   "source": [
    "Run the next code cell to calculate the cost of engraving `Charlie+Denver` on a solid gold ring."
   ]
  },
  {
   "cell_type": "code",
   "execution_count": 13,
   "id": "b0529c9f",
   "metadata": {
    "execution": {
     "iopub.execute_input": "2023-03-18T20:29:22.240819Z",
     "iopub.status.busy": "2023-03-18T20:29:22.240010Z",
     "iopub.status.idle": "2023-03-18T20:29:22.246821Z",
     "shell.execute_reply": "2023-03-18T20:29:22.245334Z"
    },
    "papermill": {
     "duration": 0.0186,
     "end_time": "2023-03-18T20:29:22.249288",
     "exception": false,
     "start_time": "2023-03-18T20:29:22.230688",
     "status": "completed"
    },
    "tags": []
   },
   "outputs": [
    {
     "name": "stdout",
     "output_type": "stream",
     "text": [
      "240\n"
     ]
    }
   ],
   "source": [
    "project_one = cost_of_project(\"Charlie+Denver\", True)\n",
    "print(project_one)"
   ]
  },
  {
   "cell_type": "markdown",
   "id": "f667272f",
   "metadata": {
    "papermill": {
     "duration": 0.007762,
     "end_time": "2023-03-18T20:29:22.265159",
     "exception": false,
     "start_time": "2023-03-18T20:29:22.257397",
     "status": "completed"
    },
    "tags": []
   },
   "source": [
    "Use the next code cell to calculate the cost of engraving `08/10/2000` on a gold plated ring."
   ]
  },
  {
   "cell_type": "code",
   "execution_count": 14,
   "id": "d223a31c",
   "metadata": {
    "execution": {
     "iopub.execute_input": "2023-03-18T20:29:22.283152Z",
     "iopub.status.busy": "2023-03-18T20:29:22.282742Z",
     "iopub.status.idle": "2023-03-18T20:29:22.288555Z",
     "shell.execute_reply": "2023-03-18T20:29:22.287314Z"
    },
    "papermill": {
     "duration": 0.018023,
     "end_time": "2023-03-18T20:29:22.291123",
     "exception": false,
     "start_time": "2023-03-18T20:29:22.273100",
     "status": "completed"
    },
    "tags": []
   },
   "outputs": [
    {
     "name": "stdout",
     "output_type": "stream",
     "text": [
      "120\n"
     ]
    }
   ],
   "source": [
    "project_two = cost_of_project(\"08/10/2000\", False)\n",
    "print(project_two)"
   ]
  },
  {
   "cell_type": "markdown",
   "id": "8fc1b283",
   "metadata": {
    "papermill": {
     "duration": 0.008001,
     "end_time": "2023-03-18T20:29:22.307417",
     "exception": false,
     "start_time": "2023-03-18T20:29:22.299416",
     "status": "completed"
    },
    "tags": []
   },
   "source": [
    "# Keep going\n",
    "\n",
    "Continue to the next lesson to **[learn about conditions and conditional statements](https://www.kaggle.com/alexisbcook/conditions-and-conditional-statements)**."
   ]
  },
  {
   "cell_type": "markdown",
   "id": "25f1e9b2",
   "metadata": {
    "papermill": {
     "duration": 0.007878,
     "end_time": "2023-03-18T20:29:22.323551",
     "exception": false,
     "start_time": "2023-03-18T20:29:22.315673",
     "status": "completed"
    },
    "tags": []
   },
   "source": [
    "---\n",
    "\n",
    "\n",
    "\n",
    "\n",
    "*Have questions or comments? Visit the [course discussion forum](https://www.kaggle.com/learn/intro-to-programming/discussion) to chat with other learners.*"
   ]
  }
 ],
 "metadata": {
  "kernelspec": {
   "display_name": "Python 3",
   "language": "python",
   "name": "python3"
  },
  "language_info": {
   "codemirror_mode": {
    "name": "ipython",
    "version": 3
   },
   "file_extension": ".py",
   "mimetype": "text/x-python",
   "name": "python",
   "nbconvert_exporter": "python",
   "pygments_lexer": "ipython3",
   "version": "3.7.12"
  },
  "papermill": {
   "default_parameters": {},
   "duration": 11.988138,
   "end_time": "2023-03-18T20:29:23.054258",
   "environment_variables": {},
   "exception": null,
   "input_path": "__notebook__.ipynb",
   "output_path": "__notebook__.ipynb",
   "parameters": {},
   "start_time": "2023-03-18T20:29:11.066120",
   "version": "2.4.0"
  }
 },
 "nbformat": 4,
 "nbformat_minor": 5
}

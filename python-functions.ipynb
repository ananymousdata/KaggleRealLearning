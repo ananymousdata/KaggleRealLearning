{
 "cells": [
  {
   "cell_type": "markdown",
   "id": "5b2f8e0a",
   "metadata": {
    "papermill": {
     "duration": 0.00619,
     "end_time": "2023-03-18T20:16:40.525168",
     "exception": false,
     "start_time": "2023-03-18T20:16:40.518978",
     "status": "completed"
    },
    "tags": []
   },
   "source": [
    "**This notebook is an exercise in the [Intro to Programming](https://www.kaggle.com/learn/intro-to-programming) course.  You can reference the tutorial at [this link](https://www.kaggle.com/alexisbcook/functions).**\n",
    "\n",
    "---\n"
   ]
  },
  {
   "cell_type": "markdown",
   "id": "c57aa1ff",
   "metadata": {
    "papermill": {
     "duration": 0.005845,
     "end_time": "2023-03-18T20:16:40.536848",
     "exception": false,
     "start_time": "2023-03-18T20:16:40.531003",
     "status": "completed"
    },
    "tags": []
   },
   "source": [
    "In the tutorial, you learned about functions. In this exercise, you'll write some of your own!\n",
    "\n",
    "# Set up the notebook\n",
    "\n",
    "Run the next code cell without changes to set up the notebook."
   ]
  },
  {
   "cell_type": "code",
   "execution_count": 1,
   "id": "fef945bd",
   "metadata": {
    "execution": {
     "iopub.execute_input": "2023-03-18T20:16:40.550983Z",
     "iopub.status.busy": "2023-03-18T20:16:40.550025Z",
     "iopub.status.idle": "2023-03-18T20:16:40.596182Z",
     "shell.execute_reply": "2023-03-18T20:16:40.594132Z"
    },
    "papermill": {
     "duration": 0.05602,
     "end_time": "2023-03-18T20:16:40.599260",
     "exception": false,
     "start_time": "2023-03-18T20:16:40.543240",
     "status": "completed"
    },
    "tags": []
   },
   "outputs": [
    {
     "name": "stdout",
     "output_type": "stream",
     "text": [
      "Setup complete.\n"
     ]
    }
   ],
   "source": [
    "# Set up the exercise\n",
    "import math\n",
    "from learntools.core import binder\n",
    "binder.bind(globals())\n",
    "from learntools.intro_to_programming.ex2 import *\n",
    "print('Setup complete.')"
   ]
  },
  {
   "cell_type": "markdown",
   "id": "cbb6276b",
   "metadata": {
    "papermill": {
     "duration": 0.004908,
     "end_time": "2023-03-18T20:16:40.609703",
     "exception": false,
     "start_time": "2023-03-18T20:16:40.604795",
     "status": "completed"
    },
    "tags": []
   },
   "source": [
    "# Question 1\n",
    "\n",
    "In the [House Prices - Advanced Regression Techniques competition](https://www.kaggle.com/c/house-prices-advanced-regression-techniques/overview), you need to use information like the number of bedrooms and bathrooms to predict the price of a house.  Inspired by this competition, you'll write your own function to do this.\n",
    "\n",
    "In the next code cell, create a function `get_expected_cost()` that has two arguments:\n",
    "- `beds` - number of bedrooms \n",
    "- `baths` - number of bathrooms\n",
    "\n",
    "It should return the expected cost of a house with that number of bedrooms and bathrooms.  Assume that:\n",
    "- the expected cost for a house with 0 bedrooms and 0 bathrooms is `80000`.  \n",
    "- each bedroom adds `30000` to the expected cost\n",
    "- each bathroom adds `10000` to the expected cost.\n",
    "\n",
    "For instance, \n",
    "- a house with 1 bedroom and 1 bathroom has an expected cost of `120000`, and \n",
    "- a house with 2 bedrooms and 1 bathroom has an expected cost of `150000`."
   ]
  },
  {
   "cell_type": "code",
   "execution_count": 2,
   "id": "ab19e79c",
   "metadata": {
    "execution": {
     "iopub.execute_input": "2023-03-18T20:16:40.622290Z",
     "iopub.status.busy": "2023-03-18T20:16:40.621277Z",
     "iopub.status.idle": "2023-03-18T20:16:40.632157Z",
     "shell.execute_reply": "2023-03-18T20:16:40.631131Z"
    },
    "papermill": {
     "duration": 0.019289,
     "end_time": "2023-03-18T20:16:40.634031",
     "exception": false,
     "start_time": "2023-03-18T20:16:40.614742",
     "status": "completed"
    },
    "tags": []
   },
   "outputs": [
    {
     "data": {
      "application/javascript": [
       "parent.postMessage({\"jupyterEvent\": \"custom.exercise_interaction\", \"data\": {\"outcomeType\": 1, \"valueTowardsCompletion\": 0.2, \"interactionType\": 1, \"questionType\": 2, \"questionId\": \"1_GetExpectedCost\", \"learnToolsVersion\": \"0.3.4\", \"failureMessage\": \"\", \"exceptionClass\": \"\", \"trace\": \"\"}}, \"*\")"
      ],
      "text/plain": [
       "<IPython.core.display.Javascript object>"
      ]
     },
     "metadata": {},
     "output_type": "display_data"
    },
    {
     "data": {
      "text/markdown": [
       "<span style=\"color:#33cc33\">Correct</span>"
      ],
      "text/plain": [
       "Correct"
      ]
     },
     "metadata": {},
     "output_type": "display_data"
    }
   ],
   "source": [
    "# TODO: Complete the function\n",
    "def get_expected_cost(beds, baths):\n",
    "    value = 80000 + (beds*30000) + (baths*10000)\n",
    "    return value\n",
    "\n",
    "# Check your answer \n",
    "q1.check()"
   ]
  },
  {
   "cell_type": "code",
   "execution_count": 3,
   "id": "7cb0405f",
   "metadata": {
    "execution": {
     "iopub.execute_input": "2023-03-18T20:16:40.646829Z",
     "iopub.status.busy": "2023-03-18T20:16:40.646401Z",
     "iopub.status.idle": "2023-03-18T20:16:40.650620Z",
     "shell.execute_reply": "2023-03-18T20:16:40.649612Z"
    },
    "papermill": {
     "duration": 0.013243,
     "end_time": "2023-03-18T20:16:40.652763",
     "exception": false,
     "start_time": "2023-03-18T20:16:40.639520",
     "status": "completed"
    },
    "tags": []
   },
   "outputs": [],
   "source": [
    "# Uncomment to see a hint\n",
    "#q1.hint()\n",
    "\n",
    "# Uncomment to view the solution\n",
    "#q1.solution()"
   ]
  },
  {
   "cell_type": "markdown",
   "id": "c8d89f6b",
   "metadata": {
    "papermill": {
     "duration": 0.005119,
     "end_time": "2023-03-18T20:16:40.663441",
     "exception": false,
     "start_time": "2023-03-18T20:16:40.658322",
     "status": "completed"
    },
    "tags": []
   },
   "source": [
    "# Question 2\n",
    "\n",
    "You are thinking about buying a home and want to get an idea of how much you will spend, based on the number of bedrooms and bathrooms.  You are trying to decide between four different options:\n",
    "- Option 1: house with two bedrooms and three bathrooms\n",
    "- Option 2: house with three bedrooms and two bathrooms\n",
    "- Option 3: house with three bedrooms and three bathrooms\n",
    "- Option 4: house with three bedrooms and four bathrooms\n",
    "\n",
    "Use the `get_expected_cost()` function you defined in question 1 to set `option_1`, `option_2`, `option_3`, and `option_4` to the expected cost of each option."
   ]
  },
  {
   "cell_type": "code",
   "execution_count": 4,
   "id": "63f12d64",
   "metadata": {
    "execution": {
     "iopub.execute_input": "2023-03-18T20:16:40.676300Z",
     "iopub.status.busy": "2023-03-18T20:16:40.675445Z",
     "iopub.status.idle": "2023-03-18T20:16:40.685860Z",
     "shell.execute_reply": "2023-03-18T20:16:40.684818Z"
    },
    "papermill": {
     "duration": 0.019034,
     "end_time": "2023-03-18T20:16:40.687860",
     "exception": false,
     "start_time": "2023-03-18T20:16:40.668826",
     "status": "completed"
    },
    "tags": []
   },
   "outputs": [
    {
     "name": "stdout",
     "output_type": "stream",
     "text": [
      "170000\n",
      "190000\n",
      "200000\n",
      "210000\n"
     ]
    },
    {
     "data": {
      "application/javascript": [
       "parent.postMessage({\"jupyterEvent\": \"custom.exercise_interaction\", \"data\": {\"outcomeType\": 1, \"valueTowardsCompletion\": 0.2, \"interactionType\": 1, \"questionType\": 1, \"questionId\": \"2_RunGetExpectedCost\", \"learnToolsVersion\": \"0.3.4\", \"failureMessage\": \"\", \"exceptionClass\": \"\", \"trace\": \"\"}}, \"*\")"
      ],
      "text/plain": [
       "<IPython.core.display.Javascript object>"
      ]
     },
     "metadata": {},
     "output_type": "display_data"
    },
    {
     "data": {
      "text/markdown": [
       "<span style=\"color:#33cc33\">Correct</span>"
      ],
      "text/plain": [
       "Correct"
      ]
     },
     "metadata": {},
     "output_type": "display_data"
    }
   ],
   "source": [
    "# TODO: Use the get_expected_cost function to fill in each value\n",
    "option_one = get_expected_cost(2,3)\n",
    "option_two = get_expected_cost(3,2)\n",
    "option_three = get_expected_cost(3,3)\n",
    "option_four = get_expected_cost(3,4)\n",
    "\n",
    "print(option_one)\n",
    "print(option_two)\n",
    "print(option_three)\n",
    "print(option_four)\n",
    "\n",
    "# Check your answer\n",
    "q2.check()"
   ]
  },
  {
   "cell_type": "code",
   "execution_count": 5,
   "id": "25a43f88",
   "metadata": {
    "execution": {
     "iopub.execute_input": "2023-03-18T20:16:40.700130Z",
     "iopub.status.busy": "2023-03-18T20:16:40.699821Z",
     "iopub.status.idle": "2023-03-18T20:16:40.703712Z",
     "shell.execute_reply": "2023-03-18T20:16:40.702881Z"
    },
    "papermill": {
     "duration": 0.011961,
     "end_time": "2023-03-18T20:16:40.705358",
     "exception": false,
     "start_time": "2023-03-18T20:16:40.693397",
     "status": "completed"
    },
    "tags": []
   },
   "outputs": [],
   "source": [
    "# Uncomment to see a hint\n",
    "#q2.hint()\n",
    "\n",
    "# Uncomment to view the solution\n",
    "#q2.solution()"
   ]
  },
  {
   "cell_type": "markdown",
   "id": "999b63d2",
   "metadata": {
    "papermill": {
     "duration": 0.005151,
     "end_time": "2023-03-18T20:16:40.716230",
     "exception": false,
     "start_time": "2023-03-18T20:16:40.711079",
     "status": "completed"
    },
    "tags": []
   },
   "source": [
    "# Question 3\n",
    "\n",
    "You're a home decorator, and you'd like to use Python to streamline some of your work.  Specifically, you're creating a tool that you intend to use to calculate the cost of painting a room.\n",
    "\n",
    "As a first step, define a function `get_cost()` that takes as input:\n",
    "- `sqft_walls` = total square feet of walls to be painted\n",
    "- `sqft_ceiling` = square feet of ceiling to be painted\n",
    "- `sqft_per_gallon` = number of square feet that you can cover with one gallon of paint\n",
    "- `cost_per_gallon` = cost (in dollars) of one gallon of paint\n",
    "\n",
    "It should return the cost (in dollars) of putting one coat of paint on all walls and the ceiling.  Assume you can buy the exact amount of paint that you need, so you can buy partial gallons (e.g., if you need 7.523 gallons, you can buy that exact amount, instead of needing to buy 8 gallons and waste some paint).  Do not round your answer."
   ]
  },
  {
   "cell_type": "code",
   "execution_count": 6,
   "id": "f8cd1f94",
   "metadata": {
    "execution": {
     "iopub.execute_input": "2023-03-18T20:16:40.729782Z",
     "iopub.status.busy": "2023-03-18T20:16:40.729168Z",
     "iopub.status.idle": "2023-03-18T20:16:40.739190Z",
     "shell.execute_reply": "2023-03-18T20:16:40.737734Z"
    },
    "papermill": {
     "duration": 0.019784,
     "end_time": "2023-03-18T20:16:40.741316",
     "exception": false,
     "start_time": "2023-03-18T20:16:40.721532",
     "status": "completed"
    },
    "tags": []
   },
   "outputs": [
    {
     "data": {
      "application/javascript": [
       "parent.postMessage({\"jupyterEvent\": \"custom.exercise_interaction\", \"data\": {\"outcomeType\": 1, \"valueTowardsCompletion\": 0.2, \"interactionType\": 1, \"questionType\": 2, \"questionId\": \"3_GetCostPaint\", \"learnToolsVersion\": \"0.3.4\", \"failureMessage\": \"\", \"exceptionClass\": \"\", \"trace\": \"\"}}, \"*\")"
      ],
      "text/plain": [
       "<IPython.core.display.Javascript object>"
      ]
     },
     "metadata": {},
     "output_type": "display_data"
    },
    {
     "data": {
      "text/markdown": [
       "<span style=\"color:#33cc33\">Correct</span>"
      ],
      "text/plain": [
       "Correct"
      ]
     },
     "metadata": {},
     "output_type": "display_data"
    }
   ],
   "source": [
    "# TODO: Finish defining the function\n",
    "def get_cost(sqft_walls, sqft_ceiling, sqft_per_gallon, cost_per_gallon):\n",
    "    cost = ((sqft_walls + sqft_ceiling) / sqft_per_gallon) * cost_per_gallon\n",
    "    return cost\n",
    "\n",
    "# Check your answer\n",
    "q3.check()"
   ]
  },
  {
   "cell_type": "code",
   "execution_count": 7,
   "id": "68419155",
   "metadata": {
    "execution": {
     "iopub.execute_input": "2023-03-18T20:16:40.756266Z",
     "iopub.status.busy": "2023-03-18T20:16:40.755569Z",
     "iopub.status.idle": "2023-03-18T20:16:40.759953Z",
     "shell.execute_reply": "2023-03-18T20:16:40.758965Z"
    },
    "papermill": {
     "duration": 0.01416,
     "end_time": "2023-03-18T20:16:40.761929",
     "exception": false,
     "start_time": "2023-03-18T20:16:40.747769",
     "status": "completed"
    },
    "tags": []
   },
   "outputs": [],
   "source": [
    "# Uncomment to see a hint\n",
    "#q3.hint()\n",
    "\n",
    "# Uncomment to view the solution\n",
    "#q3.solution()"
   ]
  },
  {
   "cell_type": "markdown",
   "id": "65e60789",
   "metadata": {
    "papermill": {
     "duration": 0.005897,
     "end_time": "2023-03-18T20:16:40.774000",
     "exception": false,
     "start_time": "2023-03-18T20:16:40.768103",
     "status": "completed"
    },
    "tags": []
   },
   "source": [
    "# Question 4\n",
    "\n",
    "Use the `get_cost()` function you defined in Question 3 to calculate the cost of applying one coat of paint to a room with:\n",
    "- 432 square feet of walls, and\n",
    "- 144 square feet of ceiling.\n",
    "\n",
    "Assume that one gallon of paint covers 400 square feet and costs $15.  As in Question 3, assume you can buy partial gallons of paint.  Do not round your answer."
   ]
  },
  {
   "cell_type": "code",
   "execution_count": 8,
   "id": "d776221e",
   "metadata": {
    "execution": {
     "iopub.execute_input": "2023-03-18T20:16:40.788624Z",
     "iopub.status.busy": "2023-03-18T20:16:40.787931Z",
     "iopub.status.idle": "2023-03-18T20:16:40.795818Z",
     "shell.execute_reply": "2023-03-18T20:16:40.794598Z"
    },
    "papermill": {
     "duration": 0.017989,
     "end_time": "2023-03-18T20:16:40.798397",
     "exception": false,
     "start_time": "2023-03-18T20:16:40.780408",
     "status": "completed"
    },
    "tags": []
   },
   "outputs": [
    {
     "data": {
      "application/javascript": [
       "parent.postMessage({\"jupyterEvent\": \"custom.exercise_interaction\", \"data\": {\"outcomeType\": 1, \"valueTowardsCompletion\": 0.2, \"interactionType\": 1, \"questionType\": 1, \"questionId\": \"4_GetCostPaintExample\", \"learnToolsVersion\": \"0.3.4\", \"failureMessage\": \"\", \"exceptionClass\": \"\", \"trace\": \"\"}}, \"*\")"
      ],
      "text/plain": [
       "<IPython.core.display.Javascript object>"
      ]
     },
     "metadata": {},
     "output_type": "display_data"
    },
    {
     "data": {
      "text/markdown": [
       "<span style=\"color:#33cc33\">Correct</span>"
      ],
      "text/plain": [
       "Correct"
      ]
     },
     "metadata": {},
     "output_type": "display_data"
    }
   ],
   "source": [
    "# TODO: Set the project_cost variable to the cost of the project\n",
    "project_cost = get_cost(432, 144, 400, 15)\n",
    "\n",
    "# Check your answer\n",
    "q4.check()"
   ]
  },
  {
   "cell_type": "code",
   "execution_count": 9,
   "id": "9c79579f",
   "metadata": {
    "execution": {
     "iopub.execute_input": "2023-03-18T20:16:40.812886Z",
     "iopub.status.busy": "2023-03-18T20:16:40.812552Z",
     "iopub.status.idle": "2023-03-18T20:16:40.816459Z",
     "shell.execute_reply": "2023-03-18T20:16:40.815571Z"
    },
    "papermill": {
     "duration": 0.01356,
     "end_time": "2023-03-18T20:16:40.818458",
     "exception": false,
     "start_time": "2023-03-18T20:16:40.804898",
     "status": "completed"
    },
    "tags": []
   },
   "outputs": [],
   "source": [
    "# Uncomment to see a hint\n",
    "#q4.hint()\n",
    "\n",
    "# Uncomment to view the solution\n",
    "#q4.solution()"
   ]
  },
  {
   "cell_type": "markdown",
   "id": "5308ae04",
   "metadata": {
    "papermill": {
     "duration": 0.005892,
     "end_time": "2023-03-18T20:16:40.830755",
     "exception": false,
     "start_time": "2023-03-18T20:16:40.824863",
     "status": "completed"
    },
    "tags": []
   },
   "source": [
    "# 🌶️ Question 5\n",
    "\n",
    "Now say you can no longer buy fractions of a gallon.  (For instance, if you need 4.3 gallons to do a project, then you have to buy 5 gallons of paint.)\n",
    "\n",
    "With this new scenario, you will create a new function `get_actual_cost` that uses the same inputs and calculates the cost of your project.\n",
    "\n",
    "One function that you'll need to use to do this is `math.ceil()`.  We demonstrate usage of this function in the code cell below.  It takes as a number as input and rounds the number up to the nearest integer.  \n",
    "\n",
    "Run the next code cell to test this function for yourself.  Feel free to change the value of `test_value` and make sure `math.ceil()` returns the number you expect."
   ]
  },
  {
   "cell_type": "code",
   "execution_count": 10,
   "id": "921de6d4",
   "metadata": {
    "execution": {
     "iopub.execute_input": "2023-03-18T20:16:40.844415Z",
     "iopub.status.busy": "2023-03-18T20:16:40.844124Z",
     "iopub.status.idle": "2023-03-18T20:16:40.848878Z",
     "shell.execute_reply": "2023-03-18T20:16:40.847742Z"
    },
    "papermill": {
     "duration": 0.013802,
     "end_time": "2023-03-18T20:16:40.850715",
     "exception": false,
     "start_time": "2023-03-18T20:16:40.836913",
     "status": "completed"
    },
    "tags": []
   },
   "outputs": [
    {
     "name": "stdout",
     "output_type": "stream",
     "text": [
      "3\n"
     ]
    }
   ],
   "source": [
    "test_value = 2.17\n",
    "\n",
    "rounded_value = math.ceil(test_value)\n",
    "print(rounded_value)"
   ]
  },
  {
   "cell_type": "markdown",
   "id": "08bedd1e",
   "metadata": {
    "papermill": {
     "duration": 0.005755,
     "end_time": "2023-03-18T20:16:40.862552",
     "exception": false,
     "start_time": "2023-03-18T20:16:40.856797",
     "status": "completed"
    },
    "tags": []
   },
   "source": [
    "Use the next code cell to define the function `get_actual_cost()`.  You'll need to use the `math.ceil()` function to do this.\n",
    "\n",
    "When answering this question, note that it's completely valid to define a function that makes use of another function.  For instance, we can define a function `round_up_and_divide_by_three` that makes use of the `math.ceil` function:\n",
    "```\n",
    "def round_up_and_divide_by_three(num):\n",
    "    new_value = math.ceil(num)\n",
    "    final_value = new_value / 3\n",
    "    return final_value\n",
    "```"
   ]
  },
  {
   "cell_type": "code",
   "execution_count": 11,
   "id": "8d5cae7e",
   "metadata": {
    "execution": {
     "iopub.execute_input": "2023-03-18T20:16:40.876092Z",
     "iopub.status.busy": "2023-03-18T20:16:40.875619Z",
     "iopub.status.idle": "2023-03-18T20:16:40.883533Z",
     "shell.execute_reply": "2023-03-18T20:16:40.882653Z"
    },
    "papermill": {
     "duration": 0.016972,
     "end_time": "2023-03-18T20:16:40.885406",
     "exception": false,
     "start_time": "2023-03-18T20:16:40.868434",
     "status": "completed"
    },
    "tags": []
   },
   "outputs": [
    {
     "data": {
      "application/javascript": [
       "parent.postMessage({\"jupyterEvent\": \"custom.exercise_interaction\", \"data\": {\"outcomeType\": 1, \"valueTowardsCompletion\": 0.2, \"interactionType\": 1, \"questionType\": 2, \"questionId\": \"5_NoMoreFractions\", \"learnToolsVersion\": \"0.3.4\", \"failureMessage\": \"\", \"exceptionClass\": \"\", \"trace\": \"\"}}, \"*\")"
      ],
      "text/plain": [
       "<IPython.core.display.Javascript object>"
      ]
     },
     "metadata": {},
     "output_type": "display_data"
    },
    {
     "data": {
      "text/markdown": [
       "<span style=\"color:#33cc33\">Correct</span>"
      ],
      "text/plain": [
       "Correct"
      ]
     },
     "metadata": {},
     "output_type": "display_data"
    }
   ],
   "source": [
    "def get_actual_cost(sqft_walls, sqft_ceiling, sqft_per_gallon, cost_per_gallon):\n",
    "    cost = math.ceil((sqft_walls + sqft_ceiling) / sqft_per_gallon) * cost_per_gallon\n",
    "    return cost\n",
    "\n",
    "# Check your answer\n",
    "q5.check()"
   ]
  },
  {
   "cell_type": "code",
   "execution_count": 12,
   "id": "a454be34",
   "metadata": {
    "execution": {
     "iopub.execute_input": "2023-03-18T20:16:40.900454Z",
     "iopub.status.busy": "2023-03-18T20:16:40.899985Z",
     "iopub.status.idle": "2023-03-18T20:16:40.903858Z",
     "shell.execute_reply": "2023-03-18T20:16:40.902960Z"
    },
    "papermill": {
     "duration": 0.013799,
     "end_time": "2023-03-18T20:16:40.906023",
     "exception": false,
     "start_time": "2023-03-18T20:16:40.892224",
     "status": "completed"
    },
    "tags": []
   },
   "outputs": [],
   "source": [
    "# Uncomment to see a hint\n",
    "#q5.hint()\n",
    "\n",
    "# Uncomment to view the solution\n",
    "#q5.solution()"
   ]
  },
  {
   "cell_type": "markdown",
   "id": "7aa50348",
   "metadata": {
    "papermill": {
     "duration": 0.006418,
     "end_time": "2023-03-18T20:16:40.919212",
     "exception": false,
     "start_time": "2023-03-18T20:16:40.912794",
     "status": "completed"
    },
    "tags": []
   },
   "source": [
    "Once your function is verified as correct, run the next code cell to calculate the updated cost of your project."
   ]
  },
  {
   "cell_type": "code",
   "execution_count": 13,
   "id": "b6616a6d",
   "metadata": {
    "execution": {
     "iopub.execute_input": "2023-03-18T20:16:40.933674Z",
     "iopub.status.busy": "2023-03-18T20:16:40.933071Z",
     "iopub.status.idle": "2023-03-18T20:16:40.940401Z",
     "shell.execute_reply": "2023-03-18T20:16:40.939203Z"
    },
    "papermill": {
     "duration": 0.016993,
     "end_time": "2023-03-18T20:16:40.942568",
     "exception": false,
     "start_time": "2023-03-18T20:16:40.925575",
     "status": "completed"
    },
    "tags": []
   },
   "outputs": [
    {
     "data": {
      "text/plain": [
       "30"
      ]
     },
     "execution_count": 13,
     "metadata": {},
     "output_type": "execute_result"
    }
   ],
   "source": [
    "get_actual_cost(432, 144, 400, 15) "
   ]
  },
  {
   "cell_type": "markdown",
   "id": "2c7f2759",
   "metadata": {
    "papermill": {
     "duration": 0.006391,
     "end_time": "2023-03-18T20:16:40.955628",
     "exception": false,
     "start_time": "2023-03-18T20:16:40.949237",
     "status": "completed"
    },
    "tags": []
   },
   "source": [
    "Say you're working with a slightly larger room.  Run the next code cell to calculate the cost of the project."
   ]
  },
  {
   "cell_type": "code",
   "execution_count": 14,
   "id": "05e7871f",
   "metadata": {
    "execution": {
     "iopub.execute_input": "2023-03-18T20:16:40.970354Z",
     "iopub.status.busy": "2023-03-18T20:16:40.969904Z",
     "iopub.status.idle": "2023-03-18T20:16:40.976102Z",
     "shell.execute_reply": "2023-03-18T20:16:40.975308Z"
    },
    "papermill": {
     "duration": 0.015926,
     "end_time": "2023-03-18T20:16:40.977921",
     "exception": false,
     "start_time": "2023-03-18T20:16:40.961995",
     "status": "completed"
    },
    "tags": []
   },
   "outputs": [
    {
     "data": {
      "text/plain": [
       "45"
      ]
     },
     "execution_count": 14,
     "metadata": {},
     "output_type": "execute_result"
    }
   ],
   "source": [
    "get_actual_cost(594, 288, 400, 15) "
   ]
  },
  {
   "cell_type": "markdown",
   "id": "652d3bc3",
   "metadata": {
    "papermill": {
     "duration": 0.006481,
     "end_time": "2023-03-18T20:16:40.991486",
     "exception": false,
     "start_time": "2023-03-18T20:16:40.985005",
     "status": "completed"
    },
    "tags": []
   },
   "source": [
    "# Keep going\n",
    "\n",
    "Continue to learn about **[data types](https://www.kaggle.com/alexisbcook/data-types)**."
   ]
  },
  {
   "cell_type": "markdown",
   "id": "d21d62e6",
   "metadata": {
    "papermill": {
     "duration": 0.006224,
     "end_time": "2023-03-18T20:16:41.004238",
     "exception": false,
     "start_time": "2023-03-18T20:16:40.998014",
     "status": "completed"
    },
    "tags": []
   },
   "source": [
    "---\n",
    "\n",
    "\n",
    "\n",
    "\n",
    "*Have questions or comments? Visit the [course discussion forum](https://www.kaggle.com/learn/intro-to-programming/discussion) to chat with other learners.*"
   ]
  }
 ],
 "metadata": {
  "kernelspec": {
   "display_name": "Python 3",
   "language": "python",
   "name": "python3"
  },
  "language_info": {
   "codemirror_mode": {
    "name": "ipython",
    "version": 3
   },
   "file_extension": ".py",
   "mimetype": "text/x-python",
   "name": "python",
   "nbconvert_exporter": "python",
   "pygments_lexer": "ipython3",
   "version": "3.7.12"
  },
  "papermill": {
   "default_parameters": {},
   "duration": 10.159198,
   "end_time": "2023-03-18T20:16:41.629885",
   "environment_variables": {},
   "exception": null,
   "input_path": "__notebook__.ipynb",
   "output_path": "__notebook__.ipynb",
   "parameters": {},
   "start_time": "2023-03-18T20:16:31.470687",
   "version": "2.4.0"
  }
 },
 "nbformat": 4,
 "nbformat_minor": 5
}
